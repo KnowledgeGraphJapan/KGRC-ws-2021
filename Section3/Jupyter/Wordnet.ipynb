{
 "cells": [
  {
   "cell_type": "code",
   "execution_count": 1,
   "metadata": {},
   "outputs": [],
   "source": [
    "@file:DependsOn(\"../lib/JenaTest.jar\")"
   ]
  },
  {
   "cell_type": "code",
   "execution_count": 2,
   "metadata": {},
   "outputs": [],
   "source": [
    "import org.apache.jena.query.*\n",
    "import org.apache.jena.rdf.model.*"
   ]
  },
  {
   "cell_type": "markdown",
   "metadata": {},
   "source": [
    "## Wordnetと動機の接続データ"
   ]
  },
  {
   "cell_type": "code",
   "execution_count": 3,
   "metadata": {},
   "outputs": [],
   "source": [
    "val rdfFile = \"file:../data/MotivationWordnet.ttl\""
   ]
  },
  {
   "cell_type": "code",
   "execution_count": 4,
   "metadata": {},
   "outputs": [],
   "source": [
    "val model : Model = ModelFactory.createDefaultModel().apply { read(rdfFile, \"TURTLE\")}"
   ]
  },
  {
   "cell_type": "markdown",
   "metadata": {},
   "source": [
    "## 動機となる感情を抽出"
   ]
  },
  {
   "cell_type": "code",
   "execution_count": 9,
   "metadata": {},
   "outputs": [],
   "source": [
    "val queryString = \"\"\"\n",
    "prefix kgcf: <http://kgchallenge.github.io/ontology/#>\n",
    "prefix kdf: <http://kgchallenge.github.io/data/#>\n",
    "prefix rdfs: <http://www.w3.org/2000/01/rdf-schema#>\n",
    "prefix rdf: <http://www.w3.org/1999/02/22-rdf-syntax-ns#>\n",
    "select * {\n",
    "    ?emotion a kgcf:motivation_of_murder .\n",
    "}\n",
    "\"\"\""
   ]
  },
  {
   "cell_type": "code",
   "execution_count": 10,
   "metadata": {},
   "outputs": [
    {
     "name": "stdout",
     "output_type": "stream",
     "text": [
      "-----------------------------------------------------\n",
      "| emotion                                           |\n",
      "=====================================================\n",
      "| <http://kgchallenge.github.io/data/#pleasure>     |\n",
      "| <http://kgchallenge.github.io/data/#money>        |\n",
      "| <http://kgchallenge.github.io/data/#greed>        |\n",
      "| <http://kgchallenge.github.io/data/#belief>       |\n",
      "| <http://kgchallenge.github.io/data/#domination>   |\n",
      "| <http://kgchallenge.github.io/data/#self-defence> |\n",
      "| <http://kgchallenge.github.io/data/#drug>         |\n",
      "| <http://kgchallenge.github.io/data/#love>         |\n",
      "| <http://kgchallenge.github.io/data/#rancor>       |\n",
      "-----------------------------------------------------\n"
     ]
    }
   ],
   "source": [
    "val qexec = QueryExecutionFactory.create(QueryFactory.create(queryString), model)\n",
    "ResultSetFormatter.out(qexec.execSelect())\n",
    "qexec.close()"
   ]
  },
  {
   "cell_type": "markdown",
   "metadata": {},
   "source": [
    "## 恨み(rancor)の関連語を抽出"
   ]
  },
  {
   "cell_type": "code",
   "execution_count": 16,
   "metadata": {},
   "outputs": [],
   "source": [
    "val queryString = \"\"\"\n",
    "prefix kgcf: <http://kgchallenge.github.io/ontology/#>\n",
    "prefix kdf: <http://kgchallenge.github.io/data/#>\n",
    "prefix rdfs: <http://www.w3.org/2000/01/rdf-schema#>\n",
    "prefix rdf: <http://www.w3.org/1999/02/22-rdf-syntax-ns#>\n",
    "select * {\n",
    "    <http://kgchallenge.github.io/data/#rancor> kgcf:relatedWord ?relatedWord .\n",
    "} limit 10\n",
    "\"\"\""
   ]
  },
  {
   "cell_type": "code",
   "execution_count": 17,
   "metadata": {},
   "outputs": [
    {
     "name": "stdout",
     "output_type": "stream",
     "text": [
      "--------------------------------------------------------------------\n",
      "| relatedWord                                                      |\n",
      "====================================================================\n",
      "| <http://www.w3.org/2006/03/wn/wn31/instances/word-hatefulness>   |\n",
      "| <http://www.w3.org/2006/03/wn/wn31/instances/word-stridency>     |\n",
      "| <http://www.w3.org/2006/03/wn/wn31/instances/word-tetchiness>    |\n",
      "| <http://www.w3.org/2006/03/wn/wn31/instances/word-recriminatory> |\n",
      "| <http://www.w3.org/2006/03/wn/wn31/instances/word-resentment>    |\n",
      "| <http://www.w3.org/2006/03/wn/wn31/instances/word-quarrel>       |\n",
      "| <http://www.w3.org/2006/03/wn/wn31/instances/word-bewilderment>  |\n",
      "| <http://www.w3.org/2006/03/wn/wn31/instances/word-rage>          |\n",
      "| <http://www.w3.org/2006/03/wn/wn31/instances/word-angriness>     |\n",
      "| <http://www.w3.org/2006/03/wn/wn31/instances/word-pettiness>     |\n",
      "--------------------------------------------------------------------\n"
     ]
    }
   ],
   "source": [
    "val qexec = QueryExecutionFactory.create(QueryFactory.create(queryString), model)\n",
    "ResultSetFormatter.out(qexec.execSelect())\n",
    "qexec.close()"
   ]
  },
  {
   "cell_type": "code",
   "execution_count": 18,
   "metadata": {},
   "outputs": [],
   "source": [
    "val rdfFile = \"file:../data/SpeckledBand-RelatedWords.ttl\"\n",
    "val model : Model = ModelFactory.createDefaultModel().apply { read(rdfFile, \"TURTLE\")}"
   ]
  },
  {
   "cell_type": "code",
   "execution_count": 27,
   "metadata": {},
   "outputs": [],
   "source": [
    "val queryString = \"\"\"\n",
    "prefix kgcf: <http://kgchallenge.github.io/ontology/#>\n",
    "prefix kdf: <http://kgchallenge.github.io/data/#>\n",
    "prefix rdfs: <http://www.w3.org/2000/01/rdf-schema#>\n",
    "prefix rdf: <http://www.w3.org/1999/02/22-rdf-syntax-ns#>\n",
    "select * {\n",
    "    ?scene kgcf:relatedWord <http://www.w3.org/2006/03/wn/wn31/instances/word-anger> .\n",
    "} limit 10\n",
    "\"\"\""
   ]
  },
  {
   "cell_type": "code",
   "execution_count": 28,
   "metadata": {},
   "outputs": [
    {
     "name": "stdout",
     "output_type": "stream",
     "text": [
      "-----------------------------------------------------------\n",
      "| scene                                                   |\n",
      "===========================================================\n",
      "| <http://kgc.knowledge-graph.jp/data/SpeckledBand/anger> |\n",
      "| <http://kgc.knowledge-graph.jp/data/SpeckledBand/335>   |\n",
      "-----------------------------------------------------------\n"
     ]
    }
   ],
   "source": [
    "val qexec = QueryExecutionFactory.create(QueryFactory.create(queryString), model)\n",
    "ResultSetFormatter.out(qexec.execSelect())\n",
    "qexec.close()"
   ]
  }
 ],
 "metadata": {
  "kernelspec": {
   "display_name": "Kotlin",
   "language": "kotlin",
   "name": "kotlin"
  },
  "language_info": {
   "codemirror_mode": "kotlin",
   "file_extension": ".kt",
   "mimetype": "text/x-kotlin",
   "name": "kotlin",
   "nbconvert_exporter": "",
   "pygments_lexer": "kotlin",
   "version": "1.6.0-dev-1733"
  }
 },
 "nbformat": 4,
 "nbformat_minor": 4
}
