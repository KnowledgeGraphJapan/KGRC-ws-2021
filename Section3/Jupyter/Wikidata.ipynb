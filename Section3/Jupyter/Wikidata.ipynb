{
 "cells": [
  {
   "cell_type": "code",
   "execution_count": 1,
   "metadata": {},
   "outputs": [],
   "source": [
    "@file:DependsOn(\"../lib/JenaTest.jar\")"
   ]
  },
  {
   "cell_type": "code",
   "execution_count": 2,
   "metadata": {},
   "outputs": [],
   "source": [
    "import org.apache.jena.query.*\n",
    "import org.apache.jena.rdf.model.*"
   ]
  },
  {
   "cell_type": "code",
   "execution_count": 3,
   "metadata": {},
   "outputs": [],
   "source": [
    "val rdfFile = \"file:../data/KGRCOntology/SpeckledBand.ttl\""
   ]
  },
  {
   "cell_type": "code",
   "execution_count": 4,
   "metadata": {},
   "outputs": [],
   "source": [
    "val model : Model = ModelFactory.createDefaultModel().apply { read(rdfFile, \"TURTLE\")}"
   ]
  },
  {
   "cell_type": "code",
   "execution_count": 5,
   "metadata": {},
   "outputs": [],
   "source": [
    "val queryString = \"\"\"\n",
    "prefix rdf:  <http://www.w3.org/1999/02/22-rdf-syntax-ns#>\n",
    "prefix rdfs: <http://www.w3.org/2000/01/rdf-schema#>\n",
    "prefix fjs: <http://challenge2021.labs.fujitsu.com/ontology/kgc.owl#> \n",
    "select * {\n",
    "?emotion rdfs:subClassOf fjs:emotion .\n",
    "} limit 10\n",
    "\"\"\""
   ]
  },
  {
   "cell_type": "code",
   "execution_count": 6,
   "metadata": {},
   "outputs": [
    {
     "name": "stdout",
     "output_type": "stream",
     "text": [
      "-----------------------------------------------------------------------------\n",
      "| emotion                                                                   |\n",
      "=============================================================================\n",
      "| <http://kgc.knowledge-graph.jp/data/SpeckledBand/motivation>              |\n",
      "| <http://challenge2021.labs.fujitsu.com/ontology/kgc.owl#negative_emotion> |\n",
      "| <http://challenge2021.labs.fujitsu.com/ontology/kgc.owl#basic_emotion>    |\n",
      "-----------------------------------------------------------------------------\n"
     ]
    }
   ],
   "source": [
    "val qexec = QueryExecutionFactory.create(QueryFactory.create(queryString), model)\n",
    "ResultSetFormatter.out(qexec.execSelect())\n",
    "qexec.close()"
   ]
  },
  {
   "cell_type": "code",
   "execution_count": 17,
   "metadata": {},
   "outputs": [],
   "source": [
    "val queryString = \"\"\"\n",
    "prefix rdf:  <http://www.w3.org/1999/02/22-rdf-syntax-ns#>\n",
    "prefix rdfs: <http://www.w3.org/2000/01/rdf-schema#>\n",
    "prefix fjs: <http://challenge2021.labs.fujitsu.com/ontology/kgc.owl#> \n",
    "select ?emotion {\n",
    "    ?emotion a ?subemotion .\n",
    "    ?subemotion rdfs:subClassOf fjs:emotion .    \n",
    "} limit 10\n",
    "\"\"\""
   ]
  },
  {
   "cell_type": "code",
   "execution_count": 18,
   "metadata": {},
   "outputs": [
    {
     "name": "stdout",
     "output_type": "stream",
     "text": [
      "-----------------------------------------------------------\n",
      "| emotion                                                 |\n",
      "===========================================================\n",
      "| <http://kgc.knowledge-graph.jp/data/SpeckledBand/anger> |\n",
      "| <http://kgc.knowledge-graph.jp/data/SpeckledBand/fear>  |\n",
      "-----------------------------------------------------------\n"
     ]
    }
   ],
   "source": [
    "val qexec = QueryExecutionFactory.create(QueryFactory.create(queryString), model)\n",
    "ResultSetFormatter.out(qexec.execSelect())\n",
    "qexec.close()"
   ]
  }
 ],
 "metadata": {
  "kernelspec": {
   "display_name": "Kotlin",
   "language": "kotlin",
   "name": "kotlin"
  },
  "language_info": {
   "codemirror_mode": "kotlin",
   "file_extension": ".kt",
   "mimetype": "text/x-kotlin",
   "name": "kotlin",
   "nbconvert_exporter": "",
   "pygments_lexer": "kotlin",
   "version": "1.6.0-dev-1733"
  }
 },
 "nbformat": 4,
 "nbformat_minor": 4
}
