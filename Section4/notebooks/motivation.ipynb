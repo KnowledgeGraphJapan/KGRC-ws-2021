{
 "cells": [
  {
   "cell_type": "markdown",
   "id": "70c0dc3c-a5f4-416d-924c-ff881a1a6c94",
   "metadata": {},
   "source": [
    "# 動機を持つ人"
   ]
  },
  {
   "cell_type": "code",
   "execution_count": 1,
   "id": "7b726b5f-3046-441e-9e9f-916777003c08",
   "metadata": {
    "tags": []
   },
   "outputs": [],
   "source": [
    "# load modules\n",
    "from rdflib import Graph, URIRef\n",
    "\n",
    "from glob import glob\n",
    "import json\n",
    "import sys\n",
    "\n",
    "sys.path.append('../src/')\n",
    "from utils import *"
   ]
  },
  {
   "cell_type": "code",
   "execution_count": 2,
   "id": "9e71b436-8782-42bc-a00f-e65f8350eb70",
   "metadata": {},
   "outputs": [],
   "source": [
    "knowledge_graph_dir = '../KnowledgeGraph/'\n",
    "additional_knowledge_graph_dir = '../AdditionalKnowledgeGraph/'"
   ]
  },
  {
   "cell_type": "code",
   "execution_count": 3,
   "id": "7af51d55-ee49-48ab-84e3-afc51092ffdb",
   "metadata": {},
   "outputs": [],
   "source": [
    "# %%html\n",
    "# <!-- pandas.DataFrame の表示設定 -->\n",
    "# <style>\n",
    "# /* Any CSS style can go in here. */\n",
    "# .dataframe th {\n",
    "#     font-size: 14px;\n",
    "# }\n",
    "# .dataframe td {\n",
    "#     font-size: 14px;\n",
    "# }\n",
    "# </style>\n"
   ]
  },
  {
   "cell_type": "code",
   "execution_count": 4,
   "id": "766df05d-0619-4144-99a0-5c784a24a978",
   "metadata": {},
   "outputs": [],
   "source": [
    "# load knowledge graph\n",
    "filenames = [\n",
    "  f'{knowledge_graph_dir}/SpeckledBand_mod.ttl', \n",
    "  f'{additional_knowledge_graph_dir}/human_environment.ttl', \n",
    "  f'{additional_knowledge_graph_dir}/additional_situation.ttl', \n",
    "  f'{additional_knowledge_graph_dir}/close_relation.ttl']\n",
    "g = Graph()\n",
    "g = load_rdf_files(g, filenames)"
   ]
  },
  {
   "cell_type": "code",
   "execution_count": 5,
   "id": "3a6143d2-ad42-433d-9d8e-b82e49b8335d",
   "metadata": {},
   "outputs": [
    {
     "name": "stdout",
     "output_type": "stream",
     "text": [
      "xml http://www.w3.org/XML/1998/namespace\n",
      "rdf http://www.w3.org/1999/02/22-rdf-syntax-ns#\n",
      "rdfs http://www.w3.org/2000/01/rdf-schema#\n",
      "xsd http://www.w3.org/2001/XMLSchema#\n",
      "owl http://www.w3.org/2002/07/owl#\n",
      "cc http://creativecommons.org/ns#\n",
      "kgc http://kgc.knowledge-graph.jp/ontology/kgc.owl#\n",
      "kd http://kgc.knowledge-graph.jp/data/SpeckledBand/\n",
      "kgcf http://kgchallenge.github.io/ontology/\n",
      "kdf http://kgchallenge.github.io/data/\n",
      "agrelon http://d-nb.info/standards/elementset/agrelon#\n"
     ]
    }
   ],
   "source": [
    "prefixes = dict(g.namespaces())\n",
    "for prefix, uri in prefixes.items():\n",
    "  print(prefix, uri)"
   ]
  },
  {
   "cell_type": "markdown",
   "id": "3e21864c-574d-4b4a-9e2d-8424d776931d",
   "metadata": {},
   "source": [
    "### お金が絡むシーンを探してみる"
   ]
  },
  {
   "cell_type": "code",
   "execution_count": 6,
   "id": "2e02940f-18b1-4e11-be0f-3853503ab5b4",
   "metadata": {},
   "outputs": [
    {
     "data": {
      "text/html": [
       "<div>\n",
       "<style scoped>\n",
       "    .dataframe tbody tr th:only-of-type {\n",
       "        vertical-align: middle;\n",
       "    }\n",
       "\n",
       "    .dataframe tbody tr th {\n",
       "        vertical-align: top;\n",
       "    }\n",
       "\n",
       "    .dataframe thead th {\n",
       "        text-align: right;\n",
       "    }\n",
       "</style>\n",
       "<table border=\"1\" class=\"dataframe\">\n",
       "  <thead>\n",
       "    <tr style=\"text-align: right;\">\n",
       "      <th></th>\n",
       "      <th>scene</th>\n",
       "    </tr>\n",
       "  </thead>\n",
       "  <tbody>\n",
       "    <tr>\n",
       "      <th>0</th>\n",
       "      <td>kd:12</td>\n",
       "    </tr>\n",
       "    <tr>\n",
       "      <th>1</th>\n",
       "      <td>kd:13</td>\n",
       "    </tr>\n",
       "    <tr>\n",
       "      <th>2</th>\n",
       "      <td>kd:147</td>\n",
       "    </tr>\n",
       "    <tr>\n",
       "      <th>3</th>\n",
       "      <td>kd:15</td>\n",
       "    </tr>\n",
       "    <tr>\n",
       "      <th>4</th>\n",
       "      <td>kd:16</td>\n",
       "    </tr>\n",
       "    <tr>\n",
       "      <th>5</th>\n",
       "      <td>kd:18</td>\n",
       "    </tr>\n",
       "    <tr>\n",
       "      <th>6</th>\n",
       "      <td>kd:4</td>\n",
       "    </tr>\n",
       "    <tr>\n",
       "      <th>7</th>\n",
       "      <td>kd:6</td>\n",
       "    </tr>\n",
       "    <tr>\n",
       "      <th>8</th>\n",
       "      <td>kd:7</td>\n",
       "    </tr>\n",
       "  </tbody>\n",
       "</table>\n",
       "</div>"
      ],
      "text/plain": [
       "    scene\n",
       "0   kd:12\n",
       "1   kd:13\n",
       "2  kd:147\n",
       "3   kd:15\n",
       "4   kd:16\n",
       "5   kd:18\n",
       "6    kd:4\n",
       "7    kd:6\n",
       "8    kd:7"
      ]
     },
     "metadata": {},
     "output_type": "display_data"
    }
   ],
   "source": [
    "# お金に言及していそうなシーンのIDを検索\n",
    "q = '''\n",
    "SELECT DISTINCT ?scene {\n",
    "  {\n",
    "    # kd:money は ttl ファイルを検索すると見つかる         \n",
    "    ?scene kgc:what kd:money . \n",
    "  } UNION {\n",
    "    ?scene kgc:subject kd:money .\n",
    "  }\n",
    "} ORDER by ?scene\n",
    "'''\n",
    "\n",
    "results = g.query(q, initBindings=dict(g.namespaces()))\n",
    "pretty_print(results, g.namespace_manager)"
   ]
  },
  {
   "cell_type": "code",
   "execution_count": null,
   "id": "68770a15-e30d-4b15-a7a1-a6efd4f39341",
   "metadata": {},
   "outputs": [],
   "source": [
    "# 上記 ID のシーンを確認してみる\n",
    "print_scene = create_print_scene(g)\n",
    "for b in results.bindings:\n",
    "  idx = b['scene'].n3(g.namespace_manager)\n",
    "  print(f'===== scene: {idx} =====')\n",
    "  print_scene(idx)"
   ]
  },
  {
   "cell_type": "markdown",
   "id": "cbe52e8f-ff1f-4a47-a237-7abc0f528864",
   "metadata": {},
   "source": [
    "## ルールを作る"
   ]
  },
  {
   "cell_type": "markdown",
   "id": "fc0103f2-1405-4cc9-8e65-e5be94e8d830",
   "metadata": {},
   "source": [
    "### 概要 : (candidate, motivation, target) を特定するルールを作る\n",
    "- ルールは motivation ごとに作る\n",
    "- ルール適用時に少なくとも，candidate, target を特定する"
   ]
  },
  {
   "cell_type": "code",
   "execution_count": 8,
   "id": "79617ef4-3b9b-4471-83c0-4ef7ee9bd0f1",
   "metadata": {},
   "outputs": [],
   "source": [
    "rules = dict()"
   ]
  },
  {
   "cell_type": "markdown",
   "id": "591050e1-12c8-4678-ac6c-a4ecc92116f6",
   "metadata": {},
   "source": [
    "## 金欲"
   ]
  },
  {
   "cell_type": "markdown",
   "id": "aa73eb02-59e6-451a-b4f3-07c6a8d544ed",
   "metadata": {},
   "source": [
    "#### ルール"
   ]
  },
  {
   "cell_type": "code",
   "execution_count": 9,
   "id": "d45754a4-0755-49f1-850e-0bdecb47dc75",
   "metadata": {},
   "outputs": [
    {
     "data": {
      "text/html": [
       "<div>\n",
       "<style scoped>\n",
       "    .dataframe tbody tr th:only-of-type {\n",
       "        vertical-align: middle;\n",
       "    }\n",
       "\n",
       "    .dataframe tbody tr th {\n",
       "        vertical-align: top;\n",
       "    }\n",
       "\n",
       "    .dataframe thead th {\n",
       "        text-align: right;\n",
       "    }\n",
       "</style>\n",
       "<table border=\"1\" class=\"dataframe\">\n",
       "  <thead>\n",
       "    <tr style=\"text-align: right;\">\n",
       "      <th></th>\n",
       "      <th>candidate</th>\n",
       "      <th>target</th>\n",
       "    </tr>\n",
       "  </thead>\n",
       "  <tbody>\n",
       "    <tr>\n",
       "      <th>0</th>\n",
       "      <td>kd:Roylott</td>\n",
       "      <td>kd:Helen</td>\n",
       "    </tr>\n",
       "    <tr>\n",
       "      <th>1</th>\n",
       "      <td>kd:Roylott</td>\n",
       "      <td>kd:Julia</td>\n",
       "    </tr>\n",
       "  </tbody>\n",
       "</table>\n",
       "</div>"
      ],
      "text/plain": [
       "    candidate    target\n",
       "0  kd:Roylott  kd:Helen\n",
       "1  kd:Roylott  kd:Julia"
      ]
     },
     "metadata": {},
     "output_type": "display_data"
    }
   ],
   "source": [
    "q = '''\n",
    "SELECT DISTINCT ?candidate ?target {\n",
    "  VALUES ?lose {kd:give kd:pay kd:lose} .\n",
    "  VALUES ?get  {kd:have} .\n",
    "  \n",
    "  ?target a kgc:Person.\n",
    "  ?subject a kgc:Person.\n",
    "  \n",
    "  # subject/whom がお金を get/lose で４パターン\n",
    "  {\n",
    "    ?scene kgc:what    kd:money ;\n",
    "           kgc:subject ?candidate ;\n",
    "           kgc:hasPredicate ?lose ;\n",
    "           kgc:if ?if .\n",
    "  } UNION {\n",
    "    ?scene kgc:what    kd:money ;\n",
    "           kgc:subject ?candidate ;\n",
    "           kgc:hasPredicate ?get ;\n",
    "           kgc:if ?if .\n",
    "  } UNION {\n",
    "    ?scene kgc:what    kd:money ;\n",
    "           kgc:whom ?candidate ;\n",
    "           kgc:hasPredicate ?get ;\n",
    "           kgc:if ?if .\n",
    "  } UNION {\n",
    "    ?scene kgc:what    kd:money ;\n",
    "           kgc:whom ?candidate ;\n",
    "           kgc:hasPredicate ?lose ;\n",
    "           kgc:if ?if .\n",
    "  }\n",
    "\n",
    "  # 条件分の subject と whom がターゲット\n",
    "  {  \n",
    "    ?if kgc:whom ?target .\n",
    "  } UNION {\n",
    "    ?if kgc:subject ?target .\n",
    "  }\n",
    "  \n",
    "  \n",
    "} ORDER by ?scene\n",
    "'''\n",
    "\n",
    "rules['greed_for_money'] = q\n",
    "res = g.query(q)\n",
    "pretty_print(res, g.namespace_manager)"
   ]
  },
  {
   "cell_type": "markdown",
   "id": "34c9c810-14ff-44e0-8fa2-dd6bea4dba60",
   "metadata": {},
   "source": [
    "### 自己防衛"
   ]
  },
  {
   "cell_type": "markdown",
   "id": "44d77827-17d7-4ca0-aef1-f86ed7fc9bcf",
   "metadata": {},
   "source": [
    "#### ルール"
   ]
  },
  {
   "cell_type": "code",
   "execution_count": 11,
   "id": "67c9f534-0da3-49a0-870f-245ee34fb244",
   "metadata": {},
   "outputs": [
    {
     "data": {
      "text/html": [
       "<div>\n",
       "<style scoped>\n",
       "    .dataframe tbody tr th:only-of-type {\n",
       "        vertical-align: middle;\n",
       "    }\n",
       "\n",
       "    .dataframe tbody tr th {\n",
       "        vertical-align: top;\n",
       "    }\n",
       "\n",
       "    .dataframe thead th {\n",
       "        text-align: right;\n",
       "    }\n",
       "</style>\n",
       "<table border=\"1\" class=\"dataframe\">\n",
       "  <thead>\n",
       "    <tr style=\"text-align: right;\">\n",
       "      <th></th>\n",
       "      <th>candidate</th>\n",
       "      <th>target</th>\n",
       "    </tr>\n",
       "  </thead>\n",
       "  <tbody>\n",
       "    <tr>\n",
       "      <th>0</th>\n",
       "      <td>kd:villager_of_Stoke_Moran</td>\n",
       "      <td>kd:Roylott</td>\n",
       "    </tr>\n",
       "    <tr>\n",
       "      <th>1</th>\n",
       "      <td>kd:Helen</td>\n",
       "      <td>kd:Roylott</td>\n",
       "    </tr>\n",
       "  </tbody>\n",
       "</table>\n",
       "</div>"
      ],
      "text/plain": [
       "                    candidate      target\n",
       "0  kd:villager_of_Stoke_Moran  kd:Roylott\n",
       "1                    kd:Helen  kd:Roylott"
      ]
     },
     "metadata": {},
     "output_type": "display_data"
    }
   ],
   "source": [
    "q = '''\n",
    "SELECT DISTINCT ?candidate ?target\n",
    "WHERE {\n",
    "  VALUES ?pred_of_beScare {kd:beScared kd:beCruellyUsed} .\n",
    "  VALUES ?pred_of_scare {kd:scared kd:cruellyUsed} .\n",
    "  ?subclass_of_scene rdfs:subClassOf kgc:Scene .\n",
    "    \n",
    "  ?candidate a kgc:Person .\n",
    "\n",
    "  {\n",
    "    ?situation a ?subclass_of_scene;\n",
    "               kgc:hasPredicate ?pred_of_beScare ;\n",
    "               kgc:subject ?candidate ;\n",
    "               kgc:whom ?target .\n",
    "  } UNION { \n",
    "    ?situation a ?subclass_of_scene;\n",
    "               kgc:hasPredicate ?pred_of_scare  ;\n",
    "               kgc:subject ?target ;\n",
    "               kgc:whom ?candidate .\n",
    "  }\n",
    "}\n",
    "'''\n",
    "\n",
    "rules['self_defence'] = q\n",
    "res = g.query(q)\n",
    "pretty_print(res, g.namespace_manager)"
   ]
  },
  {
   "cell_type": "markdown",
   "id": "9ffb4853-cbc1-40a2-8802-5d5c06b0dbba",
   "metadata": {},
   "source": [
    "追加した知識"
   ]
  },
  {
   "cell_type": "markdown",
   "id": "62b76d19-84f7-47cc-a876-081761db13fc",
   "metadata": {},
   "source": [
    "#### 追加した知識"
   ]
  },
  {
   "cell_type": "code",
   "execution_count": 12,
   "id": "ed80e568-cd1c-4011-8507-a8d22884a380",
   "metadata": {},
   "outputs": [
    {
     "name": "stdout",
     "output_type": "stream",
     "text": [
      "# additional_situation.ttl\n",
      "# 本文の情報をもとに追加したナレッジ\n",
      "\n",
      "@prefix kgc: <http://kgc.knowledge-graph.jp/ontology/kgc.owl#> .\n",
      "@prefix kd: <http://kgc.knowledge-graph.jp/data/SpeckledBand/> .\n",
      "@prefix kgcf: <http://kgchallenge.github.io/ontology/> .\n",
      "@prefix kdf:  <http://kgchallenge.github.io/data/> .\n",
      "@prefix owl: <http://www.w3.org/2002/07/owl#> .\n",
      "@prefix rdfs: <http://www.w3.org/2000/01/rdf-schema#> .\n",
      "\n",
      "\n",
      "# 小説中の\"村の人々はすっかりおびえてしまい\"の一文より\n",
      "kdf:_023 a kgc:Situation ;\n",
      "        kgc:source \"村の人々はすっかりおびえてしまい、\"@ja ;\n",
      "        kgc:subject kd:villager_of_Stoke_Moran ;\n",
      "        kgc:hasPredicate kd:beScared;\n",
      "        kgc:whom kd:Roylott . # 文脈からロイロットだと判断\n",
      "\n",
      "# 小説中の\"「ひどい扱いを受けていらっしゃる。」ホームズが言った。\"より\n",
      "kdf:_129_1 a kgc:Situation ;\n",
      "        kgc:source \"「ひどい扱いを受けていらっしゃる。」ホームズが言った。\"@ja ;\n",
      "        kgc:subject kd:Holmes ; \n",
      "        kgc:hasPredicate kd:say ;\n",
      "        kgc:what  kd:_129_2 .\n",
      "\n",
      "kdf:_129_2 a kgc:Situation ;\n",
      "        kgc:source \"ひどい扱いを受けていらっしゃる。\"@ja ; \n",
      "        kgc:subject kd:Helen ; # 文脈的にヘレン\n",
      "        kgc:whom kd:Roylott;   # 文脈的にロイロット\n",
      "        kgc:hasPredicate kd:beCruellyUsed ;\n",
      "        kgcf:hasAttribution kd:uncertainly .\n",
      "\n"
     ]
    }
   ],
   "source": [
    "! cat {additional_knowledge_graph_dir}/additional_situation.ttl "
   ]
  },
  {
   "cell_type": "markdown",
   "id": "f15daa3c-eb3a-461c-ae9d-d85e741baa2a",
   "metadata": {},
   "source": [
    "# 怨恨"
   ]
  },
  {
   "cell_type": "markdown",
   "id": "b9408039-4784-4e13-9fcf-43f9882f31c3",
   "metadata": {},
   "source": [
    "#### ルール"
   ]
  },
  {
   "cell_type": "code",
   "execution_count": 14,
   "id": "c8be46b9-472a-47f9-8944-6be529aa5aa3",
   "metadata": {},
   "outputs": [
    {
     "data": {
      "text/html": [
       "<div>\n",
       "<style scoped>\n",
       "    .dataframe tbody tr th:only-of-type {\n",
       "        vertical-align: middle;\n",
       "    }\n",
       "\n",
       "    .dataframe tbody tr th {\n",
       "        vertical-align: top;\n",
       "    }\n",
       "\n",
       "    .dataframe thead th {\n",
       "        text-align: right;\n",
       "    }\n",
       "</style>\n",
       "<table border=\"1\" class=\"dataframe\">\n",
       "  <thead>\n",
       "    <tr style=\"text-align: right;\">\n",
       "      <th></th>\n",
       "      <th>candidate</th>\n",
       "      <th>target</th>\n",
       "    </tr>\n",
       "  </thead>\n",
       "  <tbody>\n",
       "  </tbody>\n",
       "</table>\n",
       "</div>"
      ],
      "text/plain": [
       "Empty DataFrame\n",
       "Columns: [candidate, target]\n",
       "Index: []"
      ]
     },
     "metadata": {},
     "output_type": "display_data"
    }
   ],
   "source": [
    "q = '''\n",
    "SELECT DISTINCT ?candidate ?target\n",
    "WHERE {  \n",
    "  VALUES ?pred_of_think {kd:suspect} .\n",
    "  ?subclass_of_scene rdfs:subClassOf kgc:Scene .\n",
    "\n",
    "  # 誰かが死んだシーン\n",
    "  ?die_situation a ?subclass_of_scene ;\n",
    "                 kgc:hasPredicate kd:die ; #kd:beKilledの方がよい？\n",
    "                 kgc:subject ?dead_person .\n",
    "\n",
    "  # 死人と近い関係にあった人\n",
    "  ?relation_of_close_person a kgcf:relation_of_family .\n",
    "  ?candidate ?relation_of_close_person ?dead_person .\n",
    "\n",
    "  # 殺人犯に当たりがついているか\n",
    "  ?think_situatoin a ?subclass_of_scene ; \n",
    "                   kgc:hasPredicate ?pred_of_think ;\n",
    "                   kgc:subject ?candidate ;\n",
    "                   kgc:what ?action .\n",
    "  {\n",
    "    ?action a ?subclass_of_scene ;\n",
    "            kgc:subject ?killer ;\n",
    "            kgc:whom ?dead_person ;\n",
    "            kgc:hasPredicate kd:kill ; \n",
    "            kgcf:hasAttribution kd:uncertainly .\n",
    "  } UNION {\n",
    "    ?action a ?subclass_of_scene ;\n",
    "            kgc:subject ?dead_person ;\n",
    "            kgc:whom ?killer ;\n",
    "            kgc:hasPredicate kd:beKilled ;\n",
    "            kgcf:hasAttribution kd:uncertainly .\n",
    "  }\n",
    "}\n",
    "\n",
    "'''\n",
    "\n",
    "rules['rancor'] = q\n",
    "res = g.query(q)\n",
    "pretty_print(res, g.namespace_manager)"
   ]
  },
  {
   "cell_type": "markdown",
   "id": "5f38fd88-a9d7-4eb9-bcb1-853291c865d5",
   "metadata": {},
   "source": [
    "### 結果を Knowledge Graph に追加する"
   ]
  },
  {
   "cell_type": "markdown",
   "id": "de0a0cd6-9d34-425f-8ca8-d81f646ada2e",
   "metadata": {},
   "source": [
    "#### 追加した知識"
   ]
  },
  {
   "cell_type": "code",
   "execution_count": 15,
   "id": "d3b5a97f-4038-4609-8d5a-439126de1cbe",
   "metadata": {},
   "outputs": [
    {
     "name": "stdout",
     "output_type": "stream",
     "text": [
      "# close_relation.ttl\n",
      "# 肉親にあたる関係\n",
      "@prefix kgc: <http://kgc.knowledge-graph.jp/ontology/kgc.owl#> .\n",
      "@prefix kd: <http://kgc.knowledge-graph.jp/data/SpeckledBand/> .\n",
      "@prefix kgcf: <http://kgchallenge.github.io/ontology/> .\n",
      "@prefix kdf: <http://kgchallenge.github.io/data/> .\n",
      "@prefix rdfs: <http://www.w3.org/2000/01/rdf-schema#> .\n",
      "@prefix rdf: <http://www.w3.org/1999/02/22-rdf-syntax-ns#> .\n",
      "\n",
      "@prefix agrelon: <http://d-nb.info/standards/elementset/agrelon#> .\n",
      "\n",
      "kgcf:relation_of_family a rdf:Class .\n",
      "\n",
      "\n",
      "agrelon:hasParentInlaw a kgcf:relation_of_family .\n",
      "agrelon:hasBiologicalSibling a kgcf:relation_of_family .\n",
      "agrelon:hasChildInlaw a kgcf:relation_of_family .\n",
      "agrelon:hasBiologicalChild a kgcf:relation_of_family .\n",
      "agrelon:hasSpouse a kgcf:relation_of_family .\n",
      "\n"
     ]
    }
   ],
   "source": [
    "! cat {additional_knowledge_graph_dir}/close_relation.ttl"
   ]
  },
  {
   "cell_type": "code",
   "execution_count": 16,
   "id": "dc2fbf6a-738f-4c5d-9342-0e946244bdfe",
   "metadata": {},
   "outputs": [
    {
     "name": "stdout",
     "output_type": "stream",
     "text": [
      "# human_environment.ttl\n",
      "# 登場人物の関係(一部)\n",
      "@prefix kgc: <http://kgc.knowledge-graph.jp/ontology/kgc.owl#> .\n",
      "@prefix kd: <http://kgc.knowledge-graph.jp/data/SpeckledBand/> .\n",
      "@prefix kgcf: <http://kgchallenge.github.io/ontology/> .\n",
      "@prefix kdf:  <http://kgchallenge.github.io/data/> .\n",
      "@prefix owl: <http://www.w3.org/2002/07/owl#> .\n",
      "@prefix rdfs: <http://www.w3.org/2000/01/rdf-schema#> .\n",
      "\n",
      "@prefix agrelon: <http://d-nb.info/standards/elementset/agrelon#> .\n",
      "\n",
      "kd:Helen agrelon:hasParentInlaw kd:Roylott .\n",
      "kd:Julia agrelon:hasParentInlaw kd:Roylott .\n",
      "\n",
      "kd:Helen agrelon:hasBiologicalSibling kd:Julia .\n",
      "kd:Julia agrelon:hasBiologicalSibling kd:Helen .\n",
      "\n",
      "kd:Roylott agrelon:hasChildInlaw kd:Helen ;\n",
      "           agrelon:hasChildInlaw kd:Julia .\n",
      "kd:mother_of_Helen agrelon:hasBiologicalChild kd:Helen .\n",
      "kd:mother_of_Helen agrelon:hasBiologicalChild kd:Julia .\n",
      "kd:mother_of_Julia agrelon:hasBiologicalChild kd:Helen .\n",
      "kd:mother_of_Julia agrelon:hasBiologicalChild kd:Julia .\n",
      "kd:mother_of_sister agrelon:hasBiologicalChild kd:Helen .\n",
      "kd:mother_of_sister agrelon:hasBiologicalChild kd:Julia .\n",
      "\n",
      "kd:Roylott agrelon:hasSpouse kd:mother_of_Helen .\n",
      "kd:mother_of_Helen agrelon:hasSpouse kd:Roylott .\n",
      "kd:mother_of_Julia agrelon:hasSpouse kd:Roylott .\n",
      "kd:mother_of_sister agrelon:hasSpouse kd:Roylott .\n",
      "\n",
      "\n",
      "\n",
      "kd:mother_of_sister owl:sameAs kd:mother_of_Helen .\n",
      "kd:mother_of_Julia owl:sameAs kd:mother_of_Helen .\n",
      "kd:mother_of_Helen owl:sameAs kd:mother_of_Julia .\n",
      "\n",
      "# 本文の\"父のお友だちといっては、漂泊のロマの一団だけで\"より\n",
      "kd:Roma agrelon:hasAcquaintance kd:Roylott .\n",
      "kd:Roylott agrelon:hasAcquaintance kd:Roma .\n",
      "\n",
      "\n",
      "# class付与\n",
      "kd:Helen a agrelon:HasParentInlaw ;\n",
      "         a agrelon:HasBiologicalSibling .\n",
      "kd:Julia a agrelon:HasParentInlaw ;\n",
      "         a agrelon:HasBiologicalSibling .\n",
      "kd:Roylott a agrelon:HasChildInlaw ;\n",
      "           a agrelon:HasSpouse ;\n",
      "           a agrelon:HasAcquaintance .\n",
      "kd:mother_of_Helen a agrelon:HasBiologicalChild ;\n",
      "                   a agrelon:HasSpouse .\n",
      "kd:mother_of_Julia a agrelon:HasBiologicalChild ;\n",
      "                   a agrelon:HasSpouse .\n",
      "kd:mother_of_sister a agrelon:HasBiologicalChild ;\n",
      "                    a agrelon:HasSpouse .\n",
      "\n",
      "\n"
     ]
    }
   ],
   "source": [
    "! cat {additional_knowledge_graph_dir}/human_environment.ttl"
   ]
  },
  {
   "cell_type": "markdown",
   "id": "494763b9-e462-4b83-ad66-db01962360a6",
   "metadata": {},
   "source": [
    "### ルール適用時に得られた推論結果を Knowledge Graph 追加"
   ]
  },
  {
   "cell_type": "code",
   "execution_count": 17,
   "id": "220b6a07-0099-4417-a7c2-1d06a07c66d8",
   "metadata": {},
   "outputs": [
    {
     "data": {
      "image/svg+xml": [
       "<svg xmlns=\"http://www.w3.org/2000/svg\" xmlns:xlink=\"http://www.w3.org/1999/xlink\" width=\"428pt\" height=\"218pt\" viewBox=\"0.00 0.00 427.94 218.00\">\n",
       "<g id=\"graph0\" class=\"graph\" transform=\"scale(1 1) rotate(0) translate(4 214)\">\n",
       "<title>motivation</title>\n",
       "<polygon fill=\"white\" stroke=\"transparent\" points=\"-4,4 -4,-214 423.94,-214 423.94,4 -4,4\"/>\n",
       "<!-- candidate -->\n",
       "<g id=\"node1\" class=\"node\">\n",
       "<title>candidate</title>\n",
       "<ellipse fill=\"none\" stroke=\"black\" cx=\"252.19\" cy=\"-192\" rx=\"55.79\" ry=\"18\"/>\n",
       "<text text-anchor=\"start\" x=\"217.19\" y=\"-189.3\" font-family=\"Times,serif\" font-style=\"italic\" font-size=\"14.00\">candidate</text>\n",
       "</g>\n",
       "<!-- motivation -->\n",
       "<g id=\"node2\" class=\"node\">\n",
       "<title>motivation</title>\n",
       "<ellipse fill=\"none\" stroke=\"black\" cx=\"83.19\" cy=\"-105\" rx=\"60.39\" ry=\"18\"/>\n",
       "<text text-anchor=\"start\" x=\"44.69\" y=\"-102.3\" font-family=\"Times,serif\" font-style=\"italic\" font-size=\"14.00\">motivation</text>\n",
       "</g>\n",
       "<!-- candidate&#45;&gt;motivation -->\n",
       "<g id=\"edge1\" class=\"edge\">\n",
       "<title>candidate-&gt;motivation</title>\n",
       "<path fill=\"none\" stroke=\"black\" d=\"M201.03,-184.45C163.25,-178.66 115.93,-169.09 101.19,-156 94.52,-150.07 90.33,-141.49 87.68,-133.11\"/>\n",
       "<polygon fill=\"black\" stroke=\"black\" points=\"91.01,-132 85.17,-123.17 84.23,-133.72 91.01,-132\"/>\n",
       "<text text-anchor=\"start\" x=\"101.19\" y=\"-144.8\" font-family=\"Times,serif\" font-size=\"14.00\">  kgcf:hasMotivation</text>\n",
       "</g>\n",
       "<!-- target -->\n",
       "<g id=\"node3\" class=\"node\">\n",
       "<title>target</title>\n",
       "<ellipse fill=\"none\" stroke=\"black\" cx=\"277.19\" cy=\"-105\" rx=\"39.79\" ry=\"18\"/>\n",
       "<text text-anchor=\"start\" x=\"254.69\" y=\"-102.3\" font-family=\"Times,serif\" font-style=\"italic\" font-size=\"14.00\">target</text>\n",
       "</g>\n",
       "<!-- candidate&#45;&gt;target -->\n",
       "<g id=\"edge2\" class=\"edge\">\n",
       "<title>candidate-&gt;target</title>\n",
       "<path fill=\"none\" stroke=\"black\" d=\"M250.15,-173.94C249.55,-164.08 249.8,-151.58 253.19,-141 254.34,-137.42 255.98,-133.88 257.88,-130.5\"/>\n",
       "<polygon fill=\"black\" stroke=\"black\" points=\"260.86,-132.34 263.32,-122.03 254.97,-128.56 260.86,-132.34\"/>\n",
       "<text text-anchor=\"start\" x=\"253.19\" y=\"-144.8\" font-family=\"Times,serif\" font-size=\"14.00\">  kgcf:wantToKill</text>\n",
       "</g>\n",
       "<!-- person_class -->\n",
       "<g id=\"node4\" class=\"node\">\n",
       "<title>person_class</title>\n",
       "<ellipse fill=\"none\" stroke=\"gray\" cx=\"358.19\" cy=\"-18\" rx=\"61.99\" ry=\"18\"/>\n",
       "<text text-anchor=\"start\" x=\"318.69\" y=\"-14.3\" font-family=\"Times,serif\" font-size=\"14.00\" fill=\"gray\">kgc:Person</text>\n",
       "</g>\n",
       "<!-- candidate&#45;&gt;person_class -->\n",
       "<g id=\"edge3\" class=\"edge\">\n",
       "<title>candidate-&gt;person_class</title>\n",
       "<path fill=\"none\" stroke=\"gray\" d=\"M307.5,-189.24C331.68,-185.36 357.95,-176.28 373.19,-156 397.22,-124.04 383.49,-75.43 371.05,-45.52\"/>\n",
       "<polygon fill=\"gray\" stroke=\"gray\" points=\"374.16,-43.9 366.94,-36.15 367.75,-46.71 374.16,-43.9\"/>\n",
       "<text text-anchor=\"start\" x=\"386.19\" y=\"-101.3\" font-family=\"Times,serif\" font-size=\"14.00\" fill=\"gray\">  a</text>\n",
       "</g>\n",
       "<!-- motivation_class -->\n",
       "<g id=\"node5\" class=\"node\">\n",
       "<title>motivation_class</title>\n",
       "<ellipse fill=\"none\" stroke=\"gray\" cx=\"83.19\" cy=\"-18\" rx=\"83.39\" ry=\"18\"/>\n",
       "<text text-anchor=\"start\" x=\"27.19\" y=\"-14.3\" font-family=\"Times,serif\" font-size=\"14.00\" fill=\"gray\">kgcf:Motivation</text>\n",
       "</g>\n",
       "<!-- motivation&#45;&gt;motivation_class -->\n",
       "<g id=\"edge5\" class=\"edge\">\n",
       "<title>motivation-&gt;motivation_class</title>\n",
       "<path fill=\"none\" stroke=\"gray\" d=\"M83.19,-86.8C83.19,-75.16 83.19,-59.55 83.19,-46.24\"/>\n",
       "<polygon fill=\"gray\" stroke=\"gray\" points=\"86.69,-46.18 83.19,-36.18 79.69,-46.18 86.69,-46.18\"/>\n",
       "<text text-anchor=\"start\" x=\"83.19\" y=\"-57.8\" font-family=\"Times,serif\" font-size=\"14.00\" fill=\"gray\">  a</text>\n",
       "</g>\n",
       "<!-- target&#45;&gt;person_class -->\n",
       "<g id=\"edge4\" class=\"edge\">\n",
       "<title>target-&gt;person_class</title>\n",
       "<path fill=\"none\" stroke=\"gray\" d=\"M292.43,-88.01C304.49,-75.35 321.54,-57.47 335.25,-43.08\"/>\n",
       "<polygon fill=\"gray\" stroke=\"gray\" points=\"338.11,-45.15 342.47,-35.5 333.04,-40.32 338.11,-45.15\"/>\n",
       "<text text-anchor=\"start\" x=\"322.19\" y=\"-57.8\" font-family=\"Times,serif\" font-size=\"14.00\" fill=\"gray\">  a</text>\n",
       "</g>\n",
       "</g>\n",
       "</svg>"
      ],
      "text/plain": [
       "<IPython.core.display.SVG object>"
      ]
     },
     "execution_count": 17,
     "metadata": {},
     "output_type": "execute_result"
    }
   ],
   "source": [
    "dot = '''\n",
    "  digraph motivation {\n",
    "  candidate [label=<<I>candidate</I>>]\n",
    "  motivation [label=<<I>motivation</I>>]\n",
    "  target [label=<<I>target</I>>]\n",
    "  person_class [label=<kgc:Person>, color=gray, fontcolor=gray]\n",
    "  motivation_class [label=<kgcf:Motivation>, color=gray, fontcolor=gray]\n",
    "  \n",
    "  candidate -> motivation [label=<  kgcf:hasMotivation>];\n",
    "  candidate -> target [label=<  kgcf:wantToKill>];\n",
    "  candidate -> person_class [label=<  a>, color=gray, fontcolor=gray]\n",
    "  target -> person_class [label=<  a>, color=gray, fontcolor=gray]\n",
    "  motivation -> motivation_class [label=<  a>, color=gray, fontcolor=gray]\n",
    "  \n",
    "}\n",
    "'''\n",
    "binary_image = pydotplus.graph_from_dot_data(dot).create_svg()\n",
    "SVG(binary_image)"
   ]
  },
  {
   "cell_type": "code",
   "execution_count": 18,
   "id": "2ec6ef30-ec17-4124-a1da-a5bf0b5c57a3",
   "metadata": {},
   "outputs": [],
   "source": [
    "# URIの用意\n",
    "## Predicates\n",
    "has_motivation  = prefixes['kgcf'] + URIRef('hasMotivation')\n",
    "want_to_kill    = prefixes['kgcf'] + URIRef('wantToKill')\n",
    "\n",
    "## Motivations\n",
    "greed_for_money = prefixes['kdf'] + URIRef('greed_for_money')\n",
    "rancor          = prefixes['kdf'] + URIRef('rancor')\n",
    "self_defence    = prefixes['kdf'] + URIRef('self_defence')"
   ]
  },
  {
   "cell_type": "code",
   "execution_count": 19,
   "id": "a5a03d35-acea-4334-a194-60f01dbee3b2",
   "metadata": {},
   "outputs": [],
   "source": [
    "motivations = [greed_for_money, self_defence, rancor]\n",
    "for i, motivation in enumerate(motivations):\n",
    "  q = rules[motivation.split('/')[-1]]\n",
    "  for row in g.query(q):\n",
    "    candidate, target = row\n",
    "    triples = [\n",
    "      (candidate, has_motivation, motivation),\n",
    "      (candidate, want_to_kill, target),\n",
    "    ]\n",
    "    \n",
    "    g = insert(g, triples)"
   ]
  },
  {
   "cell_type": "markdown",
   "id": "950f8298-13b8-492f-8f77-288fbd4dd753",
   "metadata": {},
   "source": [
    "## 殺人動機を持つ人物の検索"
   ]
  },
  {
   "cell_type": "code",
   "execution_count": 20,
   "id": "434a6190-7881-4cf8-afc7-863849b6a1bd",
   "metadata": {},
   "outputs": [
    {
     "data": {
      "text/html": [
       "<div>\n",
       "<style scoped>\n",
       "    .dataframe tbody tr th:only-of-type {\n",
       "        vertical-align: middle;\n",
       "    }\n",
       "\n",
       "    .dataframe tbody tr th {\n",
       "        vertical-align: top;\n",
       "    }\n",
       "\n",
       "    .dataframe thead th {\n",
       "        text-align: right;\n",
       "    }\n",
       "</style>\n",
       "<table border=\"1\" class=\"dataframe\">\n",
       "  <thead>\n",
       "    <tr style=\"text-align: right;\">\n",
       "      <th></th>\n",
       "      <th>candidate</th>\n",
       "      <th>motivation</th>\n",
       "      <th>target</th>\n",
       "    </tr>\n",
       "  </thead>\n",
       "  <tbody>\n",
       "    <tr>\n",
       "      <th>0</th>\n",
       "      <td>kd:Roylott</td>\n",
       "      <td>kdf:greed_for_money</td>\n",
       "      <td>kd:Helen</td>\n",
       "    </tr>\n",
       "    <tr>\n",
       "      <th>1</th>\n",
       "      <td>kd:Roylott</td>\n",
       "      <td>kdf:greed_for_money</td>\n",
       "      <td>kd:Julia</td>\n",
       "    </tr>\n",
       "    <tr>\n",
       "      <th>2</th>\n",
       "      <td>kd:villager_of_Stoke_Moran</td>\n",
       "      <td>kdf:self_defence</td>\n",
       "      <td>kd:Roylott</td>\n",
       "    </tr>\n",
       "    <tr>\n",
       "      <th>3</th>\n",
       "      <td>kd:Helen</td>\n",
       "      <td>kdf:self_defence</td>\n",
       "      <td>kd:Roylott</td>\n",
       "    </tr>\n",
       "  </tbody>\n",
       "</table>\n",
       "</div>"
      ],
      "text/plain": [
       "                    candidate           motivation      target\n",
       "0                  kd:Roylott  kdf:greed_for_money    kd:Helen\n",
       "1                  kd:Roylott  kdf:greed_for_money    kd:Julia\n",
       "2  kd:villager_of_Stoke_Moran     kdf:self_defence  kd:Roylott\n",
       "3                    kd:Helen     kdf:self_defence  kd:Roylott"
      ]
     },
     "metadata": {},
     "output_type": "display_data"
    }
   ],
   "source": [
    "q = '''\n",
    "SELECT DISTINCT ?candidate ?motivation ?target \n",
    "WHERE {\n",
    "  ?candidate kgcf:hasMotivation ?motivation ;\n",
    "             kgcf:wantToKill    ?target .\n",
    "}\n",
    "'''\n",
    "\n",
    "res = g.query(q)\n",
    "pretty_print(res, g.namespace_manager)"
   ]
  }
 ],
 "metadata": {
  "kernelspec": {
   "display_name": "Python 3 (ipykernel)",
   "language": "python",
   "name": "python3"
  },
  "language_info": {
   "codemirror_mode": {
    "name": "ipython",
    "version": 3
   },
   "file_extension": ".py",
   "mimetype": "text/x-python",
   "name": "python",
   "nbconvert_exporter": "python",
   "pygments_lexer": "ipython3",
   "version": "3.8.10"
  }
 },
 "nbformat": 4,
 "nbformat_minor": 5
}
